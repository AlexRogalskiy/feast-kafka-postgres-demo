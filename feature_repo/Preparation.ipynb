{
 "cells": [
  {
   "cell_type": "code",
   "execution_count": null,
   "metadata": {},
   "outputs": [],
   "source": [
    "import random\n"
   ]
  },
  {
   "cell_type": "code",
   "execution_count": null,
   "metadata": {
    "scrolled": true
   },
   "outputs": [],
   "source": [
    "%reload_ext streaming_jupyter_integrations.magics"
   ]
  },
  {
   "cell_type": "code",
   "execution_count": null,
   "metadata": {},
   "outputs": [],
   "source": [
    "%load_config_file --path ./config-local.json"
   ]
  },
  {
   "cell_type": "code",
   "execution_count": null,
   "metadata": {},
   "outputs": [],
   "source": [
    "%%bash -s {kafka_bootstrap}\n",
    "kafka-topics --bootstrap-server $1 --delete --topic traffic\n"
   ]
  },
  {
   "cell_type": "code",
   "execution_count": null,
   "metadata": {},
   "outputs": [],
   "source": [
    "%%bash -s {kafka_bootstrap}\n",
    "kafka-topics --bootstrap-server $1 --create --topic traffic --partitions 1 --replication-factor 1 \\\n",
    "--config file.delete.delay.ms=604800000000 \\\n",
    "--config segment.ms=604800000000 \\\n",
    "--config retention.ms=604800000000 \\\n"
   ]
  },
  {
   "cell_type": "code",
   "execution_count": null,
   "metadata": {},
   "outputs": [],
   "source": [
    "%%bash \n",
    "export PGPASSWORD=$(kubectl get secret --namespace postgresql postgresql -o jsonpath=\"{.data.postgres-password}\" | base64 -d)\n",
    "PGPASSWORD=\"$PGPASSWORD\" psql --host 127.0.0.1 -U postgres -d postgres -p 5432 -c 'drop table if exists users'\n",
    "PGPASSWORD=\"$PGPASSWORD\" psql --host 127.0.0.1 -U postgres -d postgres -p 5432 -c 'drop table if exists orders'\n",
    "PGPASSWORD=\"$PGPASSWORD\" psql --host 127.0.0.1 -U postgres -d postgres -p 5432 -c 'create table users (user_id int, timestamp bigint, country varchar(20), platform varchar(20))'\n",
    "PGPASSWORD=\"$PGPASSWORD\" psql --host 127.0.0.1 -U postgres -d postgres -p 5432 -c 'create table orders (order_id int, timestamp bigint, user_id int)'\n",
    "\n"
   ]
  },
  {
   "cell_type": "code",
   "execution_count": null,
   "metadata": {},
   "outputs": [],
   "source": [
    "%%bash\n",
    "export PGPASSWORD=$(kubectl get secret --namespace postgresql postgresql -o jsonpath=\"{.data.postgres-password}\" | base64 -d)\n",
    "PGPASSWORD=\"$PGPASSWORD\" psql --host 127.0.0.1 -U postgres -d postgres -p 5432 -c \"select * from users limit 10\""
   ]
  },
  {
   "cell_type": "code",
   "execution_count": null,
   "metadata": {},
   "outputs": [],
   "source": [
    "from typing import Dict, Any\n",
    "from doge_datagen import DataOnlineGenerator, KafkaAvroSinkFactory, DbSinkFactory, Subject, Transition, SubjectFactory, DataOnlineGenerator\n",
    "import json\n",
    "from dataclasses import dataclass\n",
    "from random import randrange\n",
    "\n",
    "countries = ['Poland', 'Germany', 'Czechia']\n",
    "platforms = ['Mobile', 'PC', 'TV']\n",
    "\n",
    "@dataclass\n",
    "class User:\n",
    "    user_id: int\n",
    "    country: str\n",
    "    platform: str\n",
    "    site: str\n",
    "\n",
    "    def __hash__(self):\n",
    "        return self.user_id\n",
    "\n",
    "\n",
    "class UserFactory:\n",
    "    def __init__(self):\n",
    "        super().__init__()\n",
    "        self.current_id = 0\n",
    "\n",
    "    def create(self) -> User:\n",
    "        user = User(self.current_id, random.choice(countries), random.choice(platforms), None)\n",
    "        self.current_id += 1\n",
    "        return user\n",
    "\n",
    "\n",
    "def key_function(subject: User, transition: Transition) -> Dict[str, Any]:\n",
    "    return {'key': str(subject.user_id)}\n",
    "\n",
    "\n",
    "def get_schema(schema_path):\n",
    "    with open(schema_path) as f:\n",
    "        return f.read()\n",
    "\n"
   ]
  },
  {
   "cell_type": "code",
   "execution_count": null,
   "metadata": {},
   "outputs": [],
   "source": [
    "kafka_avro_factory = KafkaAvroSinkFactory([kafka_bootstrap], schema_registry_url, 'feast-avro-demo')\n"
   ]
  },
  {
   "cell_type": "code",
   "execution_count": null,
   "metadata": {},
   "outputs": [],
   "source": [
    "print(kafka_bootstrap)\n",
    "print(schema_registry_url)"
   ]
  },
  {
   "cell_type": "code",
   "execution_count": null,
   "metadata": {},
   "outputs": [],
   "source": [
    "db_factory = DbSinkFactory(f'postgresql://{postgres_username}:{postgres_password}@{postgres_url_short}/postgres')\n"
   ]
  },
  {
   "cell_type": "code",
   "execution_count": null,
   "metadata": {
    "scrolled": true
   },
   "outputs": [],
   "source": [
    "key_schema = get_schema('./avro/Key.avsc')\n",
    "\n"
   ]
  },
  {
   "cell_type": "code",
   "execution_count": null,
   "metadata": {},
   "outputs": [],
   "source": [
    "# Traffic definition\n",
    "traffic_event_schema = get_schema('./avro/Traffic.avsc')\n",
    "class TrafficMapper:\n",
    "    session_status = {}\n",
    "    current_id = 0\n",
    "    @staticmethod\n",
    "    def traffic_key_function(subject: User, transition: Transition) -> Dict[str, Any]:\n",
    "        return {'key': str(TrafficMapper.current_id)}\n",
    "    @staticmethod\n",
    "    def traffic_value_function(timestamp: int, subject: User, transition: Transition) -> Dict[str, Any]:\n",
    "        if subject.user_id not in TrafficMapper.session_status or timestamp > TrafficMapper.session_status[subject.user_id]['last_timestamp'] + 3600000:\n",
    "            TrafficMapper.session_status[subject.user_id] = {\n",
    "                'last_timestamp' : timestamp,\n",
    "                'session_listing_page_views': 0,\n",
    "                'session_product_page_views': 0,\n",
    "                'session_photo_page_views': 0,\n",
    "            }\n",
    "        else:\n",
    "            TrafficMapper.session_status[subject.user_id]['last_timestamp'] = timestamp\n",
    "            \n",
    "        if subject.site == 'listing_page':\n",
    "            TrafficMapper.session_status[subject.user_id]['session_listing_page_views'] += 1\n",
    "        if subject.site == 'product_page':\n",
    "            TrafficMapper.session_status[subject.user_id]['session_product_page_views'] += 1\n",
    "        if subject.site == 'photo_page':\n",
    "            TrafficMapper.session_status[subject.user_id]['session_photo_page_views'] += 1\n",
    "            \n",
    "        value = {\n",
    "            'traffic_id': str(TrafficMapper.current_id),\n",
    "            'timestamp': timestamp,\n",
    "            'user_id': str(subject.user_id),\n",
    "            'event': str(subject.site),\n",
    "            'session_listing_page_views': TrafficMapper.session_status[subject.user_id]['session_listing_page_views'],\n",
    "            'session_product_page_views': TrafficMapper.session_status[subject.user_id]['session_product_page_views'],\n",
    "            'session_photo_page_views': TrafficMapper.session_status[subject.user_id]['session_photo_page_views'],\n",
    "        }\n",
    "        TrafficMapper.current_id += 1\n",
    "        return value\n",
    "\n",
    "\n",
    "mapper = TrafficMapper()\n",
    "\n",
    "\n",
    "traffic_sink = kafka_avro_factory.create(\"traffic\", mapper.traffic_key_function, key_schema, mapper.traffic_value_function, traffic_event_schema)\n"
   ]
  },
  {
   "cell_type": "code",
   "execution_count": null,
   "metadata": {},
   "outputs": [],
   "source": [
    "def users_mapper_function(timestamp: int, subject: User, transition: Transition) -> Dict[str, Any]:\n",
    "    row = {\n",
    "        'user_id': str(subject.user_id),\n",
    "        'timestamp': timestamp,\n",
    "        'country': subject.country,\n",
    "        'platform': subject.platform,\n",
    "    }\n",
    "    return row\n",
    "\n",
    "\n",
    "users_sink = db_factory.create(\"users\", users_mapper_function)"
   ]
  },
  {
   "cell_type": "code",
   "execution_count": null,
   "metadata": {},
   "outputs": [],
   "source": [
    "class OrderMapper:\n",
    "    current_id = 0\n",
    "    @staticmethod\n",
    "    def orders_mapper_function(timestamp: int, subject: User, transition: Transition) -> Dict[str, Any]:\n",
    "        row = {\n",
    "            'order_id': OrderMapper.current_id,\n",
    "            'timestamp': timestamp,\n",
    "            'user_id': str(subject.user_id)\n",
    "        }\n",
    "        OrderMapper.current_id += 1\n",
    "        return row\n",
    "\n",
    "mapper = OrderMapper()\n",
    "orders_sink = db_factory.create(\"orders\", mapper.orders_mapper_function)"
   ]
  },
  {
   "cell_type": "code",
   "execution_count": null,
   "metadata": {},
   "outputs": [],
   "source": [
    "class CallbackFactory:\n",
    "    def __init__(self, target_page):\n",
    "        self.target_page = target_page\n",
    "    def get_callback(self):\n",
    "        def callback(subject: User, transition: Transition):\n",
    "            subject.site = self.target_page\n",
    "            return True\n",
    "        return callback  \n",
    "       "
   ]
  },
  {
   "cell_type": "code",
   "execution_count": null,
   "metadata": {},
   "outputs": [],
   "source": [
    "# Doge configuration\n",
    "def create_example_data_online_generator():\n",
    "    datagen = DataOnlineGenerator(['register', 'offline', 'listing_page', 'product_page', 'photo_page', 'order_page'], 'register', UserFactory(), 1000, 60000, 50000, 1600000000000)\n",
    "    datagen.add_transition('register_user', 'register', 'offline', 100, event_sinks=[users_sink])\n",
    "    datagen.add_transition('login', 'offline', 'listing_page', 0.01, action_callback=CallbackFactory('listing_page').get_callback(), event_sinks=[traffic_sink])\n",
    "    datagen.add_transition('logout', 'listing_page', 'offline', 1)\n",
    "    datagen.add_transition('listing_to_product_page', 'listing_page', 'product_page', 9, action_callback=CallbackFactory('product_page').get_callback(), event_sinks=[traffic_sink])\n",
    "    datagen.add_transition('product_to_listing_page', 'product_page', 'listing_page', 2, action_callback=CallbackFactory('listing_page').get_callback(), event_sinks=[traffic_sink])\n",
    "    datagen.add_transition('product_to_photo_page', 'product_page', 'photo_page', 6, action_callback=CallbackFactory('photo_page').get_callback(), event_sinks=[traffic_sink])\n",
    "    datagen.add_transition('product_to_order_page', 'product_page', 'order_page', 2, action_callback=CallbackFactory('order_page').get_callback(), event_sinks=[traffic_sink, orders_sink])\n",
    "    datagen.add_transition('photo_to_product_page', 'photo_page', 'product_page', 5, action_callback=CallbackFactory('product_page').get_callback(), event_sinks=[traffic_sink])\n",
    "    datagen.add_transition('photo_to_order_page', 'photo_page', 'order_page', 5, action_callback=CallbackFactory('order_page').get_callback(), event_sinks=[traffic_sink, orders_sink])\n",
    "    datagen.add_transition('order_to_listing_page', 'order_page', 'listing_page', 50, action_callback=CallbackFactory('listing_page').get_callback(), event_sinks=[traffic_sink])\n",
    "    datagen.add_transition('order_to_offline_page', 'order_page', 'offline', 50)\n",
    "\n",
    "\n",
    "    return datagen\n",
    "\n"
   ]
  },
  {
   "cell_type": "code",
   "execution_count": null,
   "metadata": {},
   "outputs": [],
   "source": [
    "datagen = create_example_data_online_generator()\n",
    "\n"
   ]
  },
  {
   "cell_type": "code",
   "execution_count": null,
   "metadata": {},
   "outputs": [],
   "source": [
    "datagen.start()\n"
   ]
  },
  {
   "cell_type": "code",
   "execution_count": null,
   "metadata": {},
   "outputs": [],
   "source": []
  }
 ],
 "metadata": {
  "kernelspec": {
   "display_name": "Python 3 (ipykernel)",
   "language": "python",
   "name": "python3"
  },
  "language_info": {
   "codemirror_mode": {
    "name": "ipython",
    "version": 3
   },
   "file_extension": ".py",
   "mimetype": "text/x-python",
   "name": "python",
   "nbconvert_exporter": "python",
   "pygments_lexer": "ipython3",
   "version": "3.8.10"
  },
  "toc": {
   "base_numbering": 1,
   "nav_menu": {},
   "number_sections": true,
   "sideBar": true,
   "skip_h1_title": false,
   "title_cell": "Table of Contents",
   "title_sidebar": "Contents",
   "toc_cell": false,
   "toc_position": {},
   "toc_section_display": true,
   "toc_window_display": false
  }
 },
 "nbformat": 4,
 "nbformat_minor": 4
}
